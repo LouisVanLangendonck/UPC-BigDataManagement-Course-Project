{
 "cells": [
  {
   "cell_type": "code",
   "execution_count": 132,
   "metadata": {},
   "outputs": [],
   "source": [
    "from pyspark.sql import SparkSession\n",
    "from pyspark.sql.functions import split"
   ]
  },
  {
   "cell_type": "code",
   "execution_count": 133,
   "metadata": {},
   "outputs": [],
   "source": [
    "import os\n",
    "os.environ['PYSPARK_SUBMIT_ARGS'] = '--packages org.apache.spark:spark-streaming-kafka-0-10_2.12:3.2.0,org.apache.spark:spark-sql-kafka-0-10_2.12:3.2.0 pyspark-shell'\n",
    "spark = SparkSession.builder.master(\"local[*]\").appName('test').getOrCreate()"
   ]
  },
  {
   "cell_type": "code",
   "execution_count": 134,
   "metadata": {},
   "outputs": [],
   "source": [
    "from pyspark.ml import PipelineModel\n",
    "pipeline = PipelineModel.load(\"pipeline2.model\")"
   ]
  },
  {
   "cell_type": "code",
   "execution_count": 135,
   "metadata": {},
   "outputs": [],
   "source": [
    "df = spark \\\n",
    "    .readStream \\\n",
    "    .format('kafka') \\\n",
    "    .option('kafka.bootstrap.servers', \"venomoth.fib.upc.edu:9092\") \\\n",
    "    .option('subscribe', 'bdm_p2') \\\n",
    "    .load() \\\n",
    "    .selectExpr(\"CAST(value AS STRING)\")"
   ]
  },
  {
   "cell_type": "code",
   "execution_count": 146,
   "metadata": {},
   "outputs": [
    {
     "data": {
      "text/plain": [
       "<pyspark.sql.streaming.StreamingQuery at 0x1247b52c040>"
      ]
     },
     "execution_count": 146,
     "metadata": {},
     "output_type": "execute_result"
    }
   ],
   "source": [
    "value_split = df.withColumn('time', split(df['value'], ',').getItem(0)) \\\n",
    "       .withColumn('NeighborhoodId', split(df['value'], ',').getItem(1)) \\\n",
    "       .withColumn('price', split(df['value'], ',').getItem(2)) \\\n",
    "       .select('time', 'NeighborhoodId', 'price') \\\n",
    "       \n",
    "predict = pipeline.transform(value_split).select(\"time\",\"NeighborhoodId\", \"price\", \"prediction\")\n",
    "\n",
    "predict \\\n",
    "    .writeStream \\\n",
    "    .queryName(\"predict\") \\\n",
    "    .format(\"memory\") \\\n",
    "    .start()"
   ]
  },
  {
   "cell_type": "code",
   "execution_count": 154,
   "metadata": {},
   "outputs": [
    {
     "name": "stdout",
     "output_type": "stream",
     "text": [
      "+--------------------+--------------+-------+------------------+\n",
      "|                time|NeighborhoodId|  price|        prediction|\n",
      "+--------------------+--------------+-------+------------------+\n",
      "|2022-05-31 09:49:...|      Q3596096| 249912|258621.65917207283|\n",
      "|2022-05-31 09:49:...|      Q3753110| 224981| 272000.1218273012|\n",
      "|2022-05-31 09:50:...|      Q3297896| 899038|1277444.4609025393|\n",
      "|2022-05-31 09:50:...|      Q2562684| 435100| 2202789.802164891|\n",
      "|2022-05-31 09:50:...|       Q720994| 498076|  441405.319753192|\n",
      "|2022-05-31 09:50:...|      Q3310216|3500048| 1284819.069259817|\n",
      "+--------------------+--------------+-------+------------------+\n",
      "\n"
     ]
    }
   ],
   "source": [
    "spark.sql(\"select * from predict\").show()"
   ]
  },
  {
   "cell_type": "code",
   "execution_count": 150,
   "metadata": {},
   "outputs": [],
   "source": [
    "spark.streams.active[0].stop()"
   ]
  }
 ],
 "metadata": {
  "interpreter": {
   "hash": "ef9f8fcb891966bacc0decb950cf7bf7a160a7b446e410340c0803fcfb8b20cc"
  },
  "kernelspec": {
   "display_name": "Python 3.9.7 ('BDM')",
   "language": "python",
   "name": "python3"
  },
  "language_info": {
   "codemirror_mode": {
    "name": "ipython",
    "version": 3
   },
   "file_extension": ".py",
   "mimetype": "text/x-python",
   "name": "python",
   "nbconvert_exporter": "python",
   "pygments_lexer": "ipython3",
   "version": "3.9.7"
  },
  "orig_nbformat": 4
 },
 "nbformat": 4,
 "nbformat_minor": 2
}
